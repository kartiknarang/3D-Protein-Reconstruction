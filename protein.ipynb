{
 "cells": [
  {
   "cell_type": "markdown",
   "metadata": {},
   "source": [
    "# 3D Protein Reconstruction using Alpha Fold Protein Data bank (PDB) structures"
   ]
  },
  {
   "cell_type": "markdown",
   "metadata": {},
   "source": [
    "We begin by using py3Dmol, a python library to visualize what the PDB file looks like. The following snippet will allow us to see what the protein structure looks like."
   ]
  },
  {
   "cell_type": "code",
   "execution_count": null,
   "metadata": {},
   "outputs": [],
   "source": [
    "import py3Dmol\n",
    "\n",
    "pdb_file = \"input/AF-O06917-F1-model_v4.pdb\"\n",
    "\n",
    "with open(pdb_file, \"r\") as f:\n",
    "    pdb_data = f.read()\n",
    "\n",
    "view = py3Dmol.view(width=800, height=600)\n",
    "\n",
    "view.addModel(pdb_data, \"pdb\")\n",
    "\n",
    "view.setStyle({\"cartoon\": {\"color\": \"spectrum\"}})\n",
    "view.zoomTo()\n",
    "\n",
    "view.show()"
   ]
  },
  {
   "cell_type": "markdown",
   "metadata": {},
   "source": [
    "Now, we'll follow these steps to reconstruct the protein:\n",
    "1. We first generate 3 random angles or views of the protein and store these coordinates.\n",
    "2. We vertically stack these three views together and train a machine learning model to learn the mapping between the input views and the original protein structure.\n",
    "3. We then use the trained model to generate the reconstructed coordinates for the protein structure.\n",
    "5. Lastly, we create a visualization using point clouds using Plotly to see how closely it resembles the original protein."
   ]
  },
  {
   "cell_type": "markdown",
   "metadata": {},
   "source": [
    "Let's begin with our import statements"
   ]
  },
  {
   "cell_type": "code",
   "execution_count": null,
   "metadata": {},
   "outputs": [],
   "source": [
    "import numpy as np\n",
    "from sklearn.model_selection import train_test_split\n",
    "from sklearn.preprocessing import MinMaxScaler\n",
    "from tensorflow.keras.models import Sequential\n",
    "from tensorflow.keras.layers import Dense, Dropout, BatchNormalization\n",
    "from tensorflow.keras.optimizers import Adam\n",
    "import numpy as np\n",
    "import plotly.graph_objects as go"
   ]
  },
  {
   "cell_type": "markdown",
   "metadata": {},
   "source": [
    "Now, we'll write a method to parse the PDB files and grab the coordinates associated with each atom."
   ]
  },
  {
   "cell_type": "code",
   "execution_count": null,
   "metadata": {},
   "outputs": [],
   "source": [
    "def parse_pdb(file_path):\n",
    "    coordinates = []\n",
    "    with open(file_path, 'r') as pdb_file:\n",
    "        for line in pdb_file:\n",
    "            if line.startswith('ATOM'):\n",
    "                x, y, z = float(line[30:38]), float(line[38:46]), float(line[46:54])\n",
    "                coordinates.append([x, y, z])\n",
    "    return np.array(coordinates)"
   ]
  },
  {
   "cell_type": "markdown",
   "metadata": {},
   "source": [
    "Once we've parsed the PDB file, we need to generate the random views. In order to do this, we'll have one view be the original coordinates, the second view be some random view of the coordinates using numpy.random, and the third view will be a flip of the original coordinates. The goal of this is to have "
   ]
  },
  {
   "cell_type": "code",
   "execution_count": null,
   "metadata": {},
   "outputs": [],
   "source": [
    "def generate_views(coordinates):\n",
    "    view1 = coordinates\n",
    "    view2 = np.random.permutation(coordinates)\n",
    "    view3 = np.flip(coordinates, axis=1)\n",
    "    return view1, view2, view3"
   ]
  },
  {
   "cell_type": "markdown",
   "metadata": {},
   "source": [
    "After the views are generated, we'll write a function to train the model, which will contain our model architecture and hyperparameter definitions."
   ]
  },
  {
   "cell_type": "code",
   "execution_count": null,
   "metadata": {},
   "outputs": [],
   "source": [
    "def train_model(input_data, output_data):\n",
    "    X_train, X_test, y_train, y_test = train_test_split(input_data, output_data, test_size=0.2, random_state=42)\n",
    "    scaler = MinMaxScaler()\n",
    "    X_train_scaled = scaler.fit_transform(X_train)\n",
    "    X_test_scaled = scaler.transform(X_test)\n",
    "\n",
    "    model = Sequential()\n",
    "    model.add(Dense(512, input_dim=X_train_scaled.shape[1], activation='relu'))\n",
    "    model.add(BatchNormalization())\n",
    "    model.add(Dropout(0.3))\n",
    "    model.add(Dense(512, activation='relu'))\n",
    "    model.add(BatchNormalization())\n",
    "    model.add(Dropout(0.3))\n",
    "    model.add(Dense(256, activation='relu'))\n",
    "    model.add(BatchNormalization())\n",
    "    model.add(Dropout(0.3))\n",
    "    model.add(Dense(3, activation='linear'))\n",
    "\n",
    "    optimizer = Adam(lr=0.001)\n",
    "    model.compile(loss='mean_squared_error', optimizer=optimizer)\n",
    "    model.fit(X_train_scaled, y_train, epochs=200, batch_size=32, validation_split=0.1)\n",
    "\n",
    "    loss = model.evaluate(X_test_scaled, y_test)\n",
    "    print(\"Mean Squared Error on Test Data:\", loss)\n",
    "\n",
    "    return model, scaler"
   ]
  },
  {
   "cell_type": "markdown",
   "metadata": {},
   "source": [
    "Now, given then the model, scaler, and the 3 views, we'll use the model to attempt to reconstruct the coordinates of the protein."
   ]
  },
  {
   "cell_type": "code",
   "execution_count": null,
   "metadata": {},
   "outputs": [],
   "source": [
    "def reconstruct_structure(model, scaler, views):\n",
    "    reconstructed_views = []\n",
    "    for view in views:\n",
    "        scaled_view = scaler.transform(view)\n",
    "        reconstructed_view = model.predict(scaled_view)\n",
    "        reconstructed_views.append(reconstructed_view)\n",
    "    return np.array(reconstructed_views)"
   ]
  },
  {
   "cell_type": "markdown",
   "metadata": {},
   "source": [
    "Lastly, we'll write two methods to save the resulting PDB and visualize the structure in plotly."
   ]
  },
  {
   "cell_type": "code",
   "execution_count": null,
   "metadata": {},
   "outputs": [],
   "source": [
    "def save_pdb(output_path, coordinates):\n",
    "    with open(output_path, 'w') as pdb_file:\n",
    "        for i, coord in enumerate(coordinates):\n",
    "            pdb_file.write(f\"ATOM  {i+1:4}  CA  ALA A   1     {coord[0]:7.3f} {coord[1]:7.3f} {coord[2]:7.3f}  1.00  0.00           C\\n\")\n",
    "\n",
    "def visualize_structure(coordinates, color_variable):\n",
    "    fig = go.Figure()\n",
    "\n",
    "    scatter = go.Scatter3d(\n",
    "        x=coordinates[:, 0],\n",
    "        y=coordinates[:, 1],\n",
    "        z=coordinates[:, 2],\n",
    "        mode='markers',\n",
    "        marker=dict(size=5, color=color_variable, colorscale='Viridis', opacity=0.8),\n",
    "        name='Protein Structure'\n",
    "    )\n",
    "\n",
    "    fig.add_trace(scatter)\n",
    "\n",
    "    fig.update_layout(scene=dict(\n",
    "        xaxis_title='X',\n",
    "        yaxis_title='Y',\n",
    "        zaxis_title='Z'\n",
    "    ))\n",
    "\n",
    "    fig.show()"
   ]
  },
  {
   "cell_type": "markdown",
   "metadata": {},
   "source": [
    "Here's the main method to put it all together:"
   ]
  },
  {
   "cell_type": "code",
   "execution_count": null,
   "metadata": {},
   "outputs": [],
   "source": [
    "def main():\n",
    "    input_pdb_path = \"input/AF-O06917-F1-model_v4.pdb\"\n",
    "    output_pdb_path = 'output/reconstructed_protein.pdb'\n",
    "    original_coordinates = parse_pdb(input_pdb_path)\n",
    "\n",
    "    view1, view2, view3 = generate_views(original_coordinates)\n",
    "\n",
    "    input_data = np.vstack([view1, view2, view3])\n",
    "    output_data = np.tile(original_coordinates, (3, 1))\n",
    "    model, scaler = train_model(input_data, output_data)\n",
    "\n",
    "    reconstructed_views = reconstruct_structure(model, scaler, [view1, view2, view3])\n",
    "\n",
    "    color_variable = np.arange(len(np.mean(reconstructed_views, axis=0)))\n",
    "    visualize_structure(np.mean(reconstructed_views, axis=0), color_variable)\n",
    "    \n",
    "    save_pdb(output_pdb_path, np.mean(reconstructed_views, axis=0))\n",
    "\n",
    "if __name__ == \"__main__\":\n",
    "    main()"
   ]
  },
  {
   "cell_type": "code",
   "execution_count": null,
   "metadata": {},
   "outputs": [],
   "source": []
  }
 ],
 "metadata": {
  "kernelspec": {
   "display_name": "epi",
   "language": "python",
   "name": "python3"
  },
  "language_info": {
   "codemirror_mode": {
    "name": "ipython",
    "version": 3
   },
   "file_extension": ".py",
   "mimetype": "text/x-python",
   "name": "python",
   "nbconvert_exporter": "python",
   "pygments_lexer": "ipython3",
   "version": "3.9.17"
  },
  "orig_nbformat": 4
 },
 "nbformat": 4,
 "nbformat_minor": 2
}
